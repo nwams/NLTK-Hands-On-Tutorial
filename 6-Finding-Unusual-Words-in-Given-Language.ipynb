{
 "cells": [
  {
   "cell_type": "markdown",
   "metadata": {},
   "source": [
    "# Finding Unusual Words in Given Language\n",
    "\n",
    "Which words do not belong with the rest of the text?"
   ]
  },
  {
   "cell_type": "code",
   "execution_count": 1,
   "metadata": {},
   "outputs": [],
   "source": [
    "text = \"Truly Kryptic is the best puzzle game. It's browser-based and free. Google it.\""
   ]
  },
  {
   "cell_type": "markdown",
   "metadata": {},
   "source": [
    "# 1. Tokenizing text"
   ]
  },
  {
   "cell_type": "code",
   "execution_count": 2,
   "metadata": {},
   "outputs": [
    {
     "data": {
      "text/plain": [
       "['truly',\n",
       " 'kryptic',\n",
       " 'is',\n",
       " 'the',\n",
       " 'best',\n",
       " 'puzzle',\n",
       " 'game',\n",
       " '.',\n",
       " 'it',\n",
       " \"'s\",\n",
       " 'browser-based',\n",
       " 'and',\n",
       " 'free',\n",
       " '.',\n",
       " 'google',\n",
       " 'it',\n",
       " '.']"
      ]
     },
     "execution_count": 2,
     "metadata": {},
     "output_type": "execute_result"
    }
   ],
   "source": [
    "from nltk import word_tokenize\n",
    "text_tokenized = word_tokenize(text.lower())\n",
    "text_tokenized"
   ]
  },
  {
   "cell_type": "markdown",
   "metadata": {},
   "source": [
    "# 2. Importing and exploring the words corpus\n",
    "NLTK includes some corpora that are nothing more than wordlists. NLTK has 2 lists for English words:\n",
    "1. **en**: This words corpus is simply a newline-delimited list of dictionary words. It is a standard file located on any Unix operating systems. It is used by some spell checkers and we can use the Words Corpus to find unusual or mis-spelt words in a text corpus.\n",
    "2. **en-basic**: Has 850 English words. The source is: _C.K. Ogden in The ABC of Basic English (1932)_\n",
    "\n",
    "Reference: Section 4.1 ([Wordlist Corpora](http://www.nltk.org/book/ch02.html#fig-lexicon)), chapter 2 of Natural Language Processing with Python."
   ]
  },
  {
   "cell_type": "code",
   "execution_count": 3,
   "metadata": {},
   "outputs": [
    {
     "data": {
      "text/plain": [
       "'Wordlists  en: English, http://en.wikipedia.org/wiki/Words_(Unix) en-basic: 850 English words: C.K. Ogden in The ABC of Basic English (1932) '"
      ]
     },
     "execution_count": 3,
     "metadata": {},
     "output_type": "execute_result"
    }
   ],
   "source": [
    "from nltk.corpus import words\n",
    "words.readme().replace('\\n', ' ') # Read the contents of the README file of the corpus"
   ]
  },
  {
   "cell_type": "code",
   "execution_count": 4,
   "metadata": {},
   "outputs": [
    {
     "data": {
      "text/plain": [
       "['en', 'en-basic']"
      ]
     },
     "execution_count": 4,
     "metadata": {},
     "output_type": "execute_result"
    }
   ],
   "source": [
    "words.fileids()"
   ]
  },
  {
   "cell_type": "code",
   "execution_count": 5,
   "metadata": {},
   "outputs": [
    {
     "data": {
      "text/plain": [
       "['A',\n",
       " 'a',\n",
       " 'aa',\n",
       " 'aal',\n",
       " 'aalii',\n",
       " 'aam',\n",
       " 'Aani',\n",
       " 'aardvark',\n",
       " 'aardwolf',\n",
       " 'Aaron',\n",
       " 'Aaronic',\n",
       " 'Aaronical',\n",
       " 'Aaronite',\n",
       " 'Aaronitic',\n",
       " 'Aaru',\n",
       " 'Ab',\n",
       " 'aba',\n",
       " 'Ababdeh',\n",
       " 'Ababua',\n",
       " 'abac',\n",
       " 'abaca',\n",
       " 'abacate',\n",
       " 'abacay',\n",
       " 'abacinate',\n",
       " 'abacination',\n",
       " 'abaciscus',\n",
       " 'abacist',\n",
       " 'aback',\n",
       " 'abactinal',\n",
       " 'abactinally']"
      ]
     },
     "execution_count": 5,
     "metadata": {},
     "output_type": "execute_result"
    }
   ],
   "source": [
    "words.words('en')[:30] # Show just the first 30 words"
   ]
  },
  {
   "cell_type": "code",
   "execution_count": 6,
   "metadata": {},
   "outputs": [
    {
     "name": "stdout",
     "output_type": "stream",
     "text": [
      "There are 235886 English words in the Words corpus.\n"
     ]
    }
   ],
   "source": [
    "en_words_length = len(words.words('en'))\n",
    "print('There are', en_words_length, 'English words in the Words corpus.')"
   ]
  },
  {
   "cell_type": "code",
   "execution_count": 7,
   "metadata": {},
   "outputs": [
    {
     "data": {
      "text/plain": [
       "['I',\n",
       " 'a',\n",
       " 'able',\n",
       " 'about',\n",
       " 'account',\n",
       " 'acid',\n",
       " 'across',\n",
       " 'act',\n",
       " 'addition',\n",
       " 'adjustment',\n",
       " 'advertisement',\n",
       " 'after',\n",
       " 'again',\n",
       " 'against',\n",
       " 'agreement',\n",
       " 'air',\n",
       " 'all',\n",
       " 'almost',\n",
       " 'among',\n",
       " 'amount',\n",
       " 'amusement',\n",
       " 'and',\n",
       " 'angle',\n",
       " 'angry',\n",
       " 'animal',\n",
       " 'answer',\n",
       " 'ant',\n",
       " 'any',\n",
       " 'apparatus',\n",
       " 'apple']"
      ]
     },
     "execution_count": 7,
     "metadata": {},
     "output_type": "execute_result"
    }
   ],
   "source": [
    "words.words('en-basic')[:30] # Show just the first 30 basic English words"
   ]
  },
  {
   "cell_type": "code",
   "execution_count": 8,
   "metadata": {},
   "outputs": [
    {
     "name": "stdout",
     "output_type": "stream",
     "text": [
      "There are 850 English words in the en-basic words corpus.\n"
     ]
    }
   ],
   "source": [
    "basic_en_words_length = len(words.words('en-basic'))\n",
    "print('There are', basic_en_words_length, 'English words in the en-basic words corpus.')"
   ]
  },
  {
   "cell_type": "markdown",
   "metadata": {},
   "source": [
    "# 3. Finding Unusual Words\n",
    "Filtering a Text: This part computes the vocabulary of a text, then removes all items that occur in an existing wordlist, leaving just the uncommon or mis-spelt words."
   ]
  },
  {
   "cell_type": "code",
   "execution_count": 9,
   "metadata": {},
   "outputs": [
    {
     "data": {
      "text/plain": [
       "{'and',\n",
       " 'best',\n",
       " 'free',\n",
       " 'game',\n",
       " 'google',\n",
       " 'is',\n",
       " 'it',\n",
       " 'kryptic',\n",
       " 'puzzle',\n",
       " 'the',\n",
       " 'truly'}"
      ]
     },
     "execution_count": 9,
     "metadata": {},
     "output_type": "execute_result"
    }
   ],
   "source": [
    "# .isalpha() checks if all the characters in the text are letters. It will remove punctuation tokens but hyphenated tokens like 'browser-based' will remain because .isalpha() would be false.\n",
    "text_vocab = set(w.lower() for w in text_tokenized if w.isalpha())\n",
    "text_vocab"
   ]
  },
  {
   "cell_type": "code",
   "execution_count": 10,
   "metadata": {},
   "outputs": [
    {
     "data": {
      "text/plain": [
       "{'google'}"
      ]
     },
     "execution_count": 10,
     "metadata": {},
     "output_type": "execute_result"
    }
   ],
   "source": [
    "english_vocab = set(w.lower() for w in words.words('en')) # lowercase all words then turn them into type: Set.\n",
    "unusual = text_vocab - english_vocab\n",
    "unusual"
   ]
  }
 ],
 "metadata": {
  "kernelspec": {
   "display_name": "Python 3",
   "language": "python",
   "name": "python3"
  },
  "language_info": {
   "codemirror_mode": {
    "name": "ipython",
    "version": 3
   },
   "file_extension": ".py",
   "mimetype": "text/x-python",
   "name": "python",
   "nbconvert_exporter": "python",
   "pygments_lexer": "ipython3",
   "version": "3.7.3"
  },
  "varInspector": {
   "cols": {
    "lenName": 16,
    "lenType": 16,
    "lenVar": 40
   },
   "kernels_config": {
    "python": {
     "delete_cmd_postfix": "",
     "delete_cmd_prefix": "del ",
     "library": "var_list.py",
     "varRefreshCmd": "print(var_dic_list())"
    },
    "r": {
     "delete_cmd_postfix": ") ",
     "delete_cmd_prefix": "rm(",
     "library": "var_list.r",
     "varRefreshCmd": "cat(var_dic_list()) "
    }
   },
   "types_to_exclude": [
    "module",
    "function",
    "builtin_function_or_method",
    "instance",
    "_Feature"
   ],
   "window_display": false
  }
 },
 "nbformat": 4,
 "nbformat_minor": 2
}
