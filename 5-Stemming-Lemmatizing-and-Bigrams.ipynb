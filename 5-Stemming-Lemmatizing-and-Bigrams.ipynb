{
 "cells": [
  {
   "cell_type": "markdown",
   "metadata": {},
   "source": [
    "# Stemming, Lemmatization and Bigrams\n",
    "\n",
    "## 1. Exploring the [reauters](http://www.nltk.org/book/ch02.html) corpus\n",
    "Practical work in Natural Language Processing typically uses large bodies of linguistic data, or corpora. NLTK comes with several interesting corpora, which are large collections of text. \n",
    "\n",
    "We will use the reuters corpora. The Reuters Corpus contains 10,788 news documents from the Reuters financial newswire service, partitioned into a training set with 7769 documents and a test set with 3019 documents totaling 1.3 million words. The documents have been classified into 90 topics, and grouped into two sets, called \"training\" and \"test\"; thus, the text with `fileid` 'test/14826' is a document drawn from the test set. This split is for training and testing algorithms that automatically detect the topic of a document."
   ]
  },
  {
   "cell_type": "code",
   "execution_count": 1,
   "metadata": {},
   "outputs": [
    {
     "data": {
      "text/plain": [
       "'       The Reuters-21578 benchmark corpus, ApteMod version  This is a publically available version of the well-known Reuters-21578 \"ApteMod\" corpus for text categorization.  It has been used in publications like these:   * Yiming Yang and X. Liu. \"A re-examination of text categorization    methods\".  1999.  Proceedings of 22nd Annual International SIGIR.    http://citeseer.nj.nec.com/yang99reexamination.html   * Thorsten Joachims. \"Text categorization with support vector    machines: learning with many relevant features\".  1998. Proceedings    of ECML-98, 10th European Conference on Machine Learning.    http://citeseer.nj.nec.com/joachims98text.html  ApteMod is a collection of 10,788 documents from the Reuters financial newswire service, partitioned into a training set with 7769 documents and a test set with 3019 documents.  The total size of the corpus is about 43 MB.  It is also available for download from http://kdd.ics.uci.edu/databases/reuters21578/reuters21578.html , which includes a more extensive history of the data revisions.  The distribution of categories in the ApteMod corpus is highly skewed, with 36.7% of the documents in the most common category, and only 0.0185% (2 documents) in each of the five least common categories. In fact, the original data source is even more skewed---in creating the corpus, any categories that did not contain at least one document in the training set and one document in the test set were removed from the corpus by its original creator.  In the ApteMod corpus, each document belongs to one or more categories.  There are 90 categories in the corpus.  The average number of categories per document is 1.235, and the average number of documents per category is about 148, or 1.37% of the corpus.   -Ken Williams   ken@mathforum.org           Copyright & Notification   (extracted from the README at the UCI address above)  The copyright for the text of newswire articles and Reuters annotations in the Reuters-21578 collection resides with Reuters Ltd. Reuters Ltd. and Carnegie Group, Inc. have agreed to allow the free distribution of this data *for research purposes only*.    If you publish results based on this data set, please acknowledge its use, refer to the data set by the name \"Reuters-21578, Distribution 1.0\", and inform your readers of the current location of the data set (see \"Availability & Questions\").  '"
      ]
     },
     "execution_count": 1,
     "metadata": {},
     "output_type": "execute_result"
    }
   ],
   "source": [
    "from nltk.corpus import reuters\n",
    "\n",
    "reuters.readme().replace('\\n', ' ') # Look at the README"
   ]
  },
  {
   "cell_type": "code",
   "execution_count": 2,
   "metadata": {},
   "outputs": [
    {
     "data": {
      "text/plain": [
       "['test/14826',\n",
       " 'test/14828',\n",
       " 'test/14829',\n",
       " 'test/14832',\n",
       " 'test/14833',\n",
       " 'test/14839',\n",
       " 'test/14840',\n",
       " 'test/14841',\n",
       " 'test/14842',\n",
       " 'test/14843',\n",
       " 'test/14844',\n",
       " 'test/14849',\n",
       " 'test/14852',\n",
       " 'test/14854',\n",
       " 'test/14858',\n",
       " 'test/14859',\n",
       " 'test/14860',\n",
       " 'test/14861',\n",
       " 'test/14862',\n",
       " 'test/14863',\n",
       " 'test/14865',\n",
       " 'test/14867',\n",
       " 'test/14872',\n",
       " 'test/14873',\n",
       " 'test/14875',\n",
       " 'test/14876',\n",
       " 'test/14877',\n",
       " 'test/14881',\n",
       " 'test/14882',\n",
       " 'test/14885']"
      ]
     },
     "execution_count": 2,
     "metadata": {},
     "output_type": "execute_result"
    }
   ],
   "source": [
    "reuters.fileids()[:30] # Preview the first 30 file ID's"
   ]
  },
  {
   "cell_type": "code",
   "execution_count": 3,
   "metadata": {},
   "outputs": [
    {
     "data": {
      "text/plain": [
       "['training/9956',\n",
       " 'training/9957',\n",
       " 'training/9958',\n",
       " 'training/9959',\n",
       " 'training/9961',\n",
       " 'training/9963',\n",
       " 'training/9964',\n",
       " 'training/9965',\n",
       " 'training/9967',\n",
       " 'training/9970',\n",
       " 'training/9971',\n",
       " 'training/9972',\n",
       " 'training/9973',\n",
       " 'training/9974',\n",
       " 'training/9975',\n",
       " 'training/9976',\n",
       " 'training/9977',\n",
       " 'training/9978',\n",
       " 'training/998',\n",
       " 'training/9981',\n",
       " 'training/9982',\n",
       " 'training/9984',\n",
       " 'training/9985',\n",
       " 'training/9988',\n",
       " 'training/9989',\n",
       " 'training/999',\n",
       " 'training/9992',\n",
       " 'training/9993',\n",
       " 'training/9994',\n",
       " 'training/9995']"
      ]
     },
     "execution_count": 3,
     "metadata": {},
     "output_type": "execute_result"
    }
   ],
   "source": [
    "reuters.fileids()[-30:] # Preview the last 30 file ID's, which happen to be training files"
   ]
  },
  {
   "cell_type": "code",
   "execution_count": 4,
   "metadata": {},
   "outputs": [
    {
     "data": {
      "text/plain": [
       "10788"
      ]
     },
     "execution_count": 4,
     "metadata": {},
     "output_type": "execute_result"
    }
   ],
   "source": [
    "len(reuters.fileids())"
   ]
  },
  {
   "cell_type": "markdown",
   "metadata": {},
   "source": [
    "Categories in the Reuters corpus overlap with each other, simply because a news story often covers multiple topics. We can ask for the topics covered by one or more documents, or for the documents included in one or more categories. For convenience, the corpus methods accept a single fileid or a list of fileids."
   ]
  },
  {
   "cell_type": "code",
   "execution_count": 5,
   "metadata": {},
   "outputs": [
    {
     "data": {
      "text/plain": [
       "['acq',\n",
       " 'alum',\n",
       " 'barley',\n",
       " 'bop',\n",
       " 'carcass',\n",
       " 'castor-oil',\n",
       " 'cocoa',\n",
       " 'coconut',\n",
       " 'coconut-oil',\n",
       " 'coffee',\n",
       " 'copper',\n",
       " 'copra-cake',\n",
       " 'corn',\n",
       " 'cotton',\n",
       " 'cotton-oil',\n",
       " 'cpi',\n",
       " 'cpu',\n",
       " 'crude',\n",
       " 'dfl',\n",
       " 'dlr',\n",
       " 'dmk',\n",
       " 'earn',\n",
       " 'fuel',\n",
       " 'gas',\n",
       " 'gnp',\n",
       " 'gold',\n",
       " 'grain',\n",
       " 'groundnut',\n",
       " 'groundnut-oil',\n",
       " 'heat',\n",
       " 'hog',\n",
       " 'housing',\n",
       " 'income',\n",
       " 'instal-debt',\n",
       " 'interest',\n",
       " 'ipi',\n",
       " 'iron-steel',\n",
       " 'jet',\n",
       " 'jobs',\n",
       " 'l-cattle',\n",
       " 'lead',\n",
       " 'lei',\n",
       " 'lin-oil',\n",
       " 'livestock',\n",
       " 'lumber',\n",
       " 'meal-feed',\n",
       " 'money-fx',\n",
       " 'money-supply',\n",
       " 'naphtha',\n",
       " 'nat-gas',\n",
       " 'nickel',\n",
       " 'nkr',\n",
       " 'nzdlr',\n",
       " 'oat',\n",
       " 'oilseed',\n",
       " 'orange',\n",
       " 'palladium',\n",
       " 'palm-oil',\n",
       " 'palmkernel',\n",
       " 'pet-chem',\n",
       " 'platinum',\n",
       " 'potato',\n",
       " 'propane',\n",
       " 'rand',\n",
       " 'rape-oil',\n",
       " 'rapeseed',\n",
       " 'reserves',\n",
       " 'retail',\n",
       " 'rice',\n",
       " 'rubber',\n",
       " 'rye',\n",
       " 'ship',\n",
       " 'silver',\n",
       " 'sorghum',\n",
       " 'soy-meal',\n",
       " 'soy-oil',\n",
       " 'soybean',\n",
       " 'strategic-metal',\n",
       " 'sugar',\n",
       " 'sun-meal',\n",
       " 'sun-oil',\n",
       " 'sunseed',\n",
       " 'tea',\n",
       " 'tin',\n",
       " 'trade',\n",
       " 'veg-oil',\n",
       " 'wheat',\n",
       " 'wpi',\n",
       " 'yen',\n",
       " 'zinc']"
      ]
     },
     "execution_count": 5,
     "metadata": {},
     "output_type": "execute_result"
    }
   ],
   "source": [
    "reuters.categories()"
   ]
  },
  {
   "cell_type": "code",
   "execution_count": 6,
   "metadata": {},
   "outputs": [
    {
     "data": {
      "text/plain": [
       "['barley', 'corn', 'grain', 'wheat']"
      ]
     },
     "execution_count": 6,
     "metadata": {},
     "output_type": "execute_result"
    }
   ],
   "source": [
    "reuters.categories('training/9865')"
   ]
  },
  {
   "cell_type": "code",
   "execution_count": 7,
   "metadata": {},
   "outputs": [
    {
     "data": {
      "text/plain": [
       "['barley', 'corn', 'grain', 'money-fx', 'wheat']"
      ]
     },
     "execution_count": 7,
     "metadata": {},
     "output_type": "execute_result"
    }
   ],
   "source": [
    "reuters.categories(['training/9865', 'training/9880'])"
   ]
  },
  {
   "cell_type": "markdown",
   "metadata": {},
   "source": [
    "We can specify the words or sentences we want in terms of files or categories. The first handful of words in each of these texts are the titles, which by convention are stored as upper case."
   ]
  },
  {
   "cell_type": "code",
   "execution_count": 8,
   "metadata": {},
   "outputs": [
    {
     "data": {
      "text/plain": [
       "['FRENCH',\n",
       " 'FREE',\n",
       " 'MARKET',\n",
       " 'CEREAL',\n",
       " 'EXPORT',\n",
       " 'BIDS',\n",
       " 'DETAILED',\n",
       " 'French',\n",
       " 'operators',\n",
       " 'have',\n",
       " 'requested',\n",
       " 'licences',\n",
       " 'to',\n",
       " 'export']"
      ]
     },
     "execution_count": 8,
     "metadata": {},
     "output_type": "execute_result"
    }
   ],
   "source": [
    "reuters.words('training/9865')[:14] # Preview the first 14 words"
   ]
  },
  {
   "cell_type": "code",
   "execution_count": 9,
   "metadata": {},
   "outputs": [
    {
     "data": {
      "text/plain": [
       "[['ASIAN', 'EXPORTERS', 'FEAR', 'DAMAGE', 'FROM', 'U', '.', 'S', '.-', 'JAPAN', 'RIFT', 'Mounting', 'trade', 'friction', 'between', 'the', 'U', '.', 'S', '.', 'And', 'Japan', 'has', 'raised', 'fears', 'among', 'many', 'of', 'Asia', \"'\", 's', 'exporting', 'nations', 'that', 'the', 'row', 'could', 'inflict', 'far', '-', 'reaching', 'economic', 'damage', ',', 'businessmen', 'and', 'officials', 'said', '.'], ['They', 'told', 'Reuter', 'correspondents', 'in', 'Asian', 'capitals', 'a', 'U', '.', 'S', '.', 'Move', 'against', 'Japan', 'might', 'boost', 'protectionist', 'sentiment', 'in', 'the', 'U', '.', 'S', '.', 'And', 'lead', 'to', 'curbs', 'on', 'American', 'imports', 'of', 'their', 'products', '.'], ...]"
      ]
     },
     "execution_count": 9,
     "metadata": {},
     "output_type": "execute_result"
    }
   ],
   "source": [
    "reuters.sents('test/14826')"
   ]
  },
  {
   "cell_type": "markdown",
   "metadata": {},
   "source": [
    "# 2. Bigrams"
   ]
  },
  {
   "cell_type": "code",
   "execution_count": 10,
   "metadata": {},
   "outputs": [
    {
     "data": {
      "text/plain": [
       "['ASIAN', 'EXPORTERS', 'FEAR', 'DAMAGE', 'FROM', 'U', ...]"
      ]
     },
     "execution_count": 10,
     "metadata": {},
     "output_type": "execute_result"
    }
   ],
   "source": [
    "trade_words = reuters.words(categories='trade') # Get words that are in the Trade category\n",
    "trade_words"
   ]
  },
  {
   "cell_type": "code",
   "execution_count": 11,
   "metadata": {},
   "outputs": [
    {
     "data": {
      "text/plain": [
       "142723"
      ]
     },
     "execution_count": 11,
     "metadata": {},
     "output_type": "execute_result"
    }
   ],
   "source": [
    "len(trade_words)"
   ]
  },
  {
   "cell_type": "markdown",
   "metadata": {},
   "source": [
    "trade_words is quite large so let's work with just a condensed version"
   ]
  },
  {
   "cell_type": "code",
   "execution_count": 12,
   "metadata": {},
   "outputs": [
    {
     "data": {
      "text/plain": [
       "['ASIAN', 'EXPORTERS', 'FEAR', 'DAMAGE', 'FROM', 'U', ...]"
      ]
     },
     "execution_count": 12,
     "metadata": {},
     "output_type": "execute_result"
    }
   ],
   "source": [
    "trade_words_condensed = trade_words\n",
    "trade_words_condensed"
   ]
  },
  {
   "cell_type": "code",
   "execution_count": 13,
   "metadata": {},
   "outputs": [
    {
     "data": {
      "text/plain": [
       "['asian',\n",
       " 'exporters',\n",
       " 'fear',\n",
       " 'damage',\n",
       " 'u',\n",
       " '.',\n",
       " '.-',\n",
       " 'japan',\n",
       " 'rift',\n",
       " 'mounting',\n",
       " 'trade',\n",
       " 'friction',\n",
       " 'u',\n",
       " '.',\n",
       " '.',\n",
       " 'japan',\n",
       " 'raised',\n",
       " 'fears',\n",
       " 'among',\n",
       " 'many',\n",
       " 'asia',\n",
       " \"'\",\n",
       " 'exporting',\n",
       " 'nations',\n",
       " 'row',\n",
       " 'could',\n",
       " 'inflict',\n",
       " 'far',\n",
       " '-',\n",
       " 'reaching',\n",
       " 'economic',\n",
       " 'damage',\n",
       " ',',\n",
       " 'businessmen',\n",
       " 'officials',\n",
       " 'said',\n",
       " '.',\n",
       " 'told',\n",
       " 'reuter',\n",
       " 'correspondents',\n",
       " 'asian',\n",
       " 'capitals',\n",
       " 'u',\n",
       " '.',\n",
       " '.',\n",
       " 'move',\n",
       " 'japan',\n",
       " 'might',\n",
       " 'boost',\n",
       " 'protectionist',\n",
       " 'sentiment',\n",
       " 'u',\n",
       " '.',\n",
       " '.',\n",
       " 'lead',\n",
       " 'curbs',\n",
       " 'american',\n",
       " 'imports',\n",
       " 'products',\n",
       " '.',\n",
       " 'exporters',\n",
       " 'said',\n",
       " 'conflict',\n",
       " 'would',\n",
       " 'hurt',\n",
       " 'long',\n",
       " '-',\n",
       " 'run',\n",
       " ',',\n",
       " 'short',\n",
       " '-',\n",
       " 'term',\n",
       " 'tokyo',\n",
       " \"'\",\n",
       " 'loss',\n",
       " 'might',\n",
       " 'gain',\n",
       " '.',\n",
       " 'u',\n",
       " '.',\n",
       " '.',\n",
       " 'said',\n",
       " 'impose',\n",
       " '300',\n",
       " 'mln',\n",
       " 'dlrs',\n",
       " 'tariffs',\n",
       " 'imports',\n",
       " 'japanese',\n",
       " 'electronics',\n",
       " 'goods',\n",
       " 'april',\n",
       " '17',\n",
       " ',',\n",
       " 'retaliation',\n",
       " 'japan',\n",
       " \"'\",\n",
       " 'alleged',\n",
       " 'failure',\n",
       " 'stick']"
      ]
     },
     "execution_count": 13,
     "metadata": {},
     "output_type": "execute_result"
    }
   ],
   "source": [
    "from nltk.corpus import stopwords\n",
    "\n",
    "# Remove stopwords from trade_words_condensed and make it all lowercase\n",
    "trade_words_condensed = [w.lower() for w in trade_words_condensed if w.lower() not in stopwords.words('english')]\n",
    "trade_words_condensed[:100]"
   ]
  },
  {
   "cell_type": "markdown",
   "metadata": {},
   "source": [
    "### Return the bigrams generated from a sequence of items, as an iterator:"
   ]
  },
  {
   "cell_type": "code",
   "execution_count": 14,
   "metadata": {},
   "outputs": [
    {
     "data": {
      "text/plain": [
       "[('asian', 'exporters'),\n",
       " ('exporters', 'fear'),\n",
       " ('fear', 'damage'),\n",
       " ('damage', 'u'),\n",
       " ('u', '.'),\n",
       " ('.', '.-'),\n",
       " ('.-', 'japan'),\n",
       " ('japan', 'rift'),\n",
       " ('rift', 'mounting'),\n",
       " ('mounting', 'trade'),\n",
       " ('trade', 'friction'),\n",
       " ('friction', 'u'),\n",
       " ('u', '.'),\n",
       " ('.', '.'),\n",
       " ('.', 'japan'),\n",
       " ('japan', 'raised'),\n",
       " ('raised', 'fears'),\n",
       " ('fears', 'among'),\n",
       " ('among', 'many'),\n",
       " ('many', 'asia'),\n",
       " ('asia', \"'\"),\n",
       " (\"'\", 'exporting'),\n",
       " ('exporting', 'nations'),\n",
       " ('nations', 'row'),\n",
       " ('row', 'could'),\n",
       " ('could', 'inflict'),\n",
       " ('inflict', 'far'),\n",
       " ('far', '-'),\n",
       " ('-', 'reaching'),\n",
       " ('reaching', 'economic'),\n",
       " ('economic', 'damage'),\n",
       " ('damage', ','),\n",
       " (',', 'businessmen'),\n",
       " ('businessmen', 'officials'),\n",
       " ('officials', 'said'),\n",
       " ('said', '.'),\n",
       " ('.', 'told'),\n",
       " ('told', 'reuter'),\n",
       " ('reuter', 'correspondents'),\n",
       " ('correspondents', 'asian'),\n",
       " ('asian', 'capitals'),\n",
       " ('capitals', 'u'),\n",
       " ('u', '.'),\n",
       " ('.', '.'),\n",
       " ('.', 'move'),\n",
       " ('move', 'japan'),\n",
       " ('japan', 'might'),\n",
       " ('might', 'boost'),\n",
       " ('boost', 'protectionist'),\n",
       " ('protectionist', 'sentiment')]"
      ]
     },
     "execution_count": 14,
     "metadata": {},
     "output_type": "execute_result"
    }
   ],
   "source": [
    "from nltk import bigrams\n",
    "\n",
    "bigrams_trade_words_condensed = list(bigrams(trade_words_condensed))\n",
    "bigrams_trade_words_condensed[:50]"
   ]
  },
  {
   "cell_type": "markdown",
   "metadata": {},
   "source": [
    "### Create a frequency distribution"
   ]
  },
  {
   "cell_type": "code",
   "execution_count": 15,
   "metadata": {},
   "outputs": [
    {
     "name": "stdout",
     "output_type": "stream",
     "text": [
      "('u', '.') 1452\n",
      "('.', '.') 1291\n",
      "('said', '.') 818\n",
      "('.', '\"') 576\n",
      "('billion', 'dlrs') 414\n",
      "(',', 'said') 267\n",
      "('united', 'states') 258\n",
      "('trade', 'deficit') 225\n",
      "('.', 'trade') 222\n",
      "(',\"', 'said') 217\n",
      "('last', 'year') 212\n",
      "('mln', 'dlrs') 208\n",
      "('trade', 'surplus') 199\n",
      "('1', '.') 196\n",
      "('.', 'said') 186\n",
      "('2', '.') 176\n",
      "('.', 'u') 160\n",
      "('japan', \"'\") 148\n",
      "('.', '5') 138\n",
      "('officials', 'said') 129\n",
      "('current', 'account') 113\n",
      "('.', 'japan') 103\n",
      "('year', '.') 102\n",
      "('year', ',') 100\n",
      "('south', 'korea') 95\n"
     ]
    }
   ],
   "source": [
    "from nltk import FreqDist\n",
    "\n",
    "bigram_freq_dist = FreqDist(bigrams_trade_words_condensed)\n",
    "\n",
    "# preview the top 25 bigrams that occur the most often\n",
    "for word, frequency in bigram_freq_dist.most_common(25): \n",
    "    print(word, frequency)"
   ]
  },
  {
   "cell_type": "code",
   "execution_count": 16,
   "metadata": {},
   "outputs": [
    {
     "data": {
      "text/plain": [
       "[(('u', '.'), 1452),\n",
       " (('.', '.'), 1291),\n",
       " (('said', '.'), 818),\n",
       " (('.', '\"'), 576),\n",
       " (('billion', 'dlrs'), 414),\n",
       " ((',', 'said'), 267),\n",
       " (('united', 'states'), 258),\n",
       " (('trade', 'deficit'), 225),\n",
       " (('.', 'trade'), 222),\n",
       " ((',\"', 'said'), 217),\n",
       " (('last', 'year'), 212),\n",
       " (('mln', 'dlrs'), 208),\n",
       " (('trade', 'surplus'), 199),\n",
       " (('1', '.'), 196),\n",
       " (('.', 'said'), 186),\n",
       " (('2', '.'), 176),\n",
       " (('.', 'u'), 160),\n",
       " (('japan', \"'\"), 148),\n",
       " (('.', '5'), 138),\n",
       " (('officials', 'said'), 129),\n",
       " (('current', 'account'), 113),\n",
       " (('.', 'japan'), 103),\n",
       " (('year', '.'), 102),\n",
       " (('year', ','), 100),\n",
       " (('south', 'korea'), 95)]"
      ]
     },
     "execution_count": 16,
     "metadata": {},
     "output_type": "execute_result"
    }
   ],
   "source": [
    "bigram_freq_dist.most_common(25)"
   ]
  },
  {
   "cell_type": "markdown",
   "metadata": {},
   "source": [
    "**Convert FreqDist's output (which is a list of tuples) to two seperate lists and use it as input to plot.**"
   ]
  },
  {
   "cell_type": "code",
   "execution_count": 17,
   "metadata": {},
   "outputs": [],
   "source": [
    "freq_dist_as_lists = list(map(list, zip(*bigram_freq_dist.most_common(25))))\n",
    "top_25_bigrams = freq_dist_as_lists[0]\n",
    "top_25_bigrams_freq_count = freq_dist_as_lists[1]\n",
    "top_25_bigrams = [str(i) for i in top_25_bigrams]"
   ]
  },
  {
   "cell_type": "markdown",
   "metadata": {},
   "source": [
    "## Plot the 25 Most Common Bigrams"
   ]
  },
  {
   "cell_type": "code",
   "execution_count": 18,
   "metadata": {},
   "outputs": [
    {
     "data": {
      "text/plain": [
       "[<matplotlib.lines.Line2D at 0x1a1a871cc0>]"
      ]
     },
     "execution_count": 18,
     "metadata": {},
     "output_type": "execute_result"
    },
    {
     "data": {
      "image/png": "[encoded data removed]",
      "text/plain": [
       "<Figure size 1152x504 with 1 Axes>"
      ]
     },
     "metadata": {
      "needs_background": "light"
     },
     "output_type": "display_data"
    }
   ],
   "source": [
    "import matplotlib.pyplot as plt\n",
    "%matplotlib inline\n",
    "\n",
    "fig = plt.figure(figsize=(16, 7))\n",
    "ax = fig.gca() # Get current axes. This is the Axes object that is created by default when we make our figure\n",
    "\n",
    "fig.suptitle('25 Most Common Bigrams', fontsize=20)\n",
    "plt.xlabel('Word Bigrams', fontsize=14)\n",
    "plt.ylabel('Frequency', fontsize=14)\n",
    "\n",
    "plt.setp(ax.get_xticklabels(), ha=\"right\", rotation=45) # Specify a rotation for the tick labels \n",
    "\n",
    "'''Here I chose not to use matplotlib interface to plot instead of bigram_freq_dist.plot(25, cumulative=False) because it doesn't support rotated xaxis tick labels, which makes it very difficult for a human being to read'''\n",
    "plt.plot(top_25_bigrams, top_25_bigrams_freq_count)"
   ]
  },
  {
   "cell_type": "markdown",
   "metadata": {},
   "source": [
    "# 3. Stemming\n",
    "Stemming is the process of reducing inflected (or derived) words to their root word also known as word stem. For example, the stem for `code, coding, coder, coders` is `code`. \n",
    "\n",
    "What are the benefits of stemming? It reduces the size of the corpus that our model will work with (especially helpful when working with large datasets). Additionally, we are helping our model by **explicitly** correlating words that have similar meanings. This is beneficial in case our model is not be able to figure out which words are related by using context only.\n",
    "\n",
    "Stemming usually refers to a crude heuristic process that chops off the ends of words (affixes) to reduce redundancies in meaning. It's important to note that because stemming is based on heuristics errors like [overstemming or understemming](https://youtu.be/54k2JV3HlFc?t=69) can occur.\n",
    "\n",
    "The most common algorithm for stemming English is Porter's algorithm.\n",
    "\n",
    "For example, here's some **sample text**:\n",
    "\n",
    "`Such an analysis can reveal features that are not easily visible from the variations in the individual genes and can lead to a picture of expression that is more biologically transparent and accessible to interpretation.` \n",
    "\n",
    "If we run it through the **Porter stemmer** we would get: \n",
    "\n",
    "`such an analysi can reveal featur that ar not easili visibl from the variat in the individu gene and can lead to a pictur of express that is more biolog transpar and access to interpret`"
   ]
  },
  {
   "cell_type": "code",
   "execution_count": 19,
   "metadata": {},
   "outputs": [
    {
     "name": "stdout",
     "output_type": "stream",
     "text": [
      "Porter stemmer:  re-test\n",
      "Lancaster stemmer:  re-testing\n",
      "Snowball stemmer:  re-test\n"
     ]
    }
   ],
   "source": [
    "from nltk.stem import PorterStemmer, LancasterStemmer\n",
    "from nltk.stem.snowball import SnowballStemmer # This is \"Porter 2\" and is considered the optimal stemmer.\n",
    "\n",
    "porter = PorterStemmer()\n",
    "lancaster = LancasterStemmer()\n",
    "snowball = SnowballStemmer(\"english\") # Create a new instance of a language specific subclass\n",
    "\n",
    "# Can stem just one word at a time\n",
    "print('Porter stemmer: ', porter.stem('Re-testing'))\n",
    "print('Lancaster stemmer: ', lancaster.stem('Re-testing'))\n",
    "print('Snowball stemmer: ', snowball.stem('Re-testing'))"
   ]
  },
  {
   "cell_type": "markdown",
   "metadata": {},
   "source": [
    "## Stemming Algorithms: Porter, Snowball, Lancaster\n",
    "[[Source](https://towardsdatascience.com/stemming-lemmatization-what-ba782b7c0bd8)]\n",
    "* Porter stemmer: This stemming algorithm is an older one. It’s from the 1980s and its main concern is removing the common endings to words so that they can be resolved to a common form. It’s not too complex and development on it is frozen. Typically, it’s a nice starting basic stemmer, but it’s not really advised to use it for any production/complex application. Instead, it has its place in research as a nice, basic stemming algorithm that can guarantee reproducibility. It also is a very gentle stemming algorithm when compared to others.\n",
    "* Snowball stemmer: This algorithm is also known as the Porter2 stemming algorithm. It is almost universally accepted as better than the Porter stemmer, even being acknowledged as such by the individual who created the Porter stemmer. That being said, it is also more aggressive than the Porter stemmer. A lot of the things added to the Snowball stemmer were because of issues noticed with the Porter stemmer. There is about a 5% difference in the way that Snowball stems versus Porter.\n",
    "* Lancaster stemmer: Just for fun, the Lancaster stemming algorithm is another algorithm that you can use. This one is the most aggressive stemming algorithm of the bunch. However, if you use the stemmer in NLTK, you can add your own custom rules to this algorithm very easily. It’s a good choice for that. One complaint around this stemming algorithm though is that it sometimes is overly aggressive and can really transform words into strange stems."
   ]
  },
  {
   "cell_type": "code",
   "execution_count": 20,
   "metadata": {},
   "outputs": [
    {
     "name": "stdout",
     "output_type": "stream",
     "text": [
      "The 'english' Snowball stemmer is better than the original 'porter' stemmer. Let's stem the word \"generously\":\n",
      "Snowball stemmer:  generous\n",
      "Porter stemmer:  gener\n"
     ]
    }
   ],
   "source": [
    "print('The \\'english\\' Snowball stemmer is better than the original \\'porter\\' stemmer. Let\\'s stem the word \\\"generously\":')\n",
    "print('Snowball stemmer: ', SnowballStemmer(\"english\").stem(\"generously\"))\n",
    "print('Porter stemmer: ', SnowballStemmer(\"porter\").stem(\"generously\"))"
   ]
  },
  {
   "cell_type": "code",
   "execution_count": 21,
   "metadata": {},
   "outputs": [
    {
     "name": "stdout",
     "output_type": "stream",
     "text": [
      "gen\n"
     ]
    }
   ],
   "source": [
    "print(lancaster.stem(\"generously\")) # lancaster stemmer is aggressive"
   ]
  },
  {
   "cell_type": "markdown",
   "metadata": {},
   "source": [
    "**SnowballStemmber can stem several other languages beside English.**"
   ]
  },
  {
   "cell_type": "code",
   "execution_count": 22,
   "metadata": {},
   "outputs": [
    {
     "data": {
      "text/plain": [
       "('arabic',\n",
       " 'danish',\n",
       " 'dutch',\n",
       " 'english',\n",
       " 'finnish',\n",
       " 'french',\n",
       " 'german',\n",
       " 'hungarian',\n",
       " 'italian',\n",
       " 'norwegian',\n",
       " 'porter',\n",
       " 'portuguese',\n",
       " 'romanian',\n",
       " 'russian',\n",
       " 'spanish',\n",
       " 'swedish')"
      ]
     },
     "execution_count": 22,
     "metadata": {},
     "output_type": "execute_result"
    }
   ],
   "source": [
    "SnowballStemmer.languages"
   ]
  },
  {
   "cell_type": "markdown",
   "metadata": {},
   "source": [
    "## Stemming an Entire Sentence\n",
    "Let's create a way to stem an entire sentence since the stemmers above can stem only one word at a time.\n",
    "\n",
    "### Translation Table\n",
    "**`str.maketrans`** builds a translation table, which is a mapping of integers or characters to integers, strings, or None. Think of it like a dictionary. We go through the string to translate and replace everything that appears as a key in the mapping with whatever its value in the map is.\n",
    "\n",
    "Let's run through the 3-argument example:\n",
    "```str.maketrans('abc', 'xyz', 'hij')```\n",
    "\n",
    "You give it three strings. Each character in the first string is replaced by the character at that index in the second string. So `'a'` maps to `'x'`, `'b'` to `'y'`, and `'c'` to `'z'`. The characters `'h'`, `'i'`, `'j'` from the third string are removed, as if they were mapped to None. So your table is saying \"Don't replace anything, but remove the characters that show up in this string\"."
   ]
  },
  {
   "cell_type": "code",
   "execution_count": 23,
   "metadata": {},
   "outputs": [
    {
     "data": {
      "text/plain": [
       "{33: None,\n",
       " 34: None,\n",
       " 35: None,\n",
       " 36: None,\n",
       " 37: None,\n",
       " 38: None,\n",
       " 39: None,\n",
       " 40: None,\n",
       " 41: None,\n",
       " 42: None,\n",
       " 43: None,\n",
       " 44: None,\n",
       " 45: None,\n",
       " 46: None,\n",
       " 47: None,\n",
       " 58: None,\n",
       " 59: None,\n",
       " 60: None,\n",
       " 61: None,\n",
       " 62: None,\n",
       " 63: None,\n",
       " 64: None,\n",
       " 91: None,\n",
       " 92: None,\n",
       " 93: None,\n",
       " 94: None,\n",
       " 95: None,\n",
       " 96: None,\n",
       " 123: None,\n",
       " 124: None,\n",
       " 125: None,\n",
       " 126: None}"
      ]
     },
     "execution_count": 23,
     "metadata": {},
     "output_type": "execute_result"
    }
   ],
   "source": [
    "from nltk import word_tokenize\n",
    "import string\n",
    "\n",
    "# Here's our sample sentence\n",
    "sentence = \"So, we'll go no more a-roving. So late into the night, Though the heart be still as loving, And the moon be still as bright.\"\n",
    "\n",
    "translation_table = str.maketrans('', '', string.punctuation) # Remove punctuations. Note that the first two arguments '', '' are simply placeholders since we aren't trying to repalce anything.\n",
    "translation_table"
   ]
  },
  {
   "cell_type": "markdown",
   "metadata": {},
   "source": [
    "### Tokenize the words after they've been run through the translation table"
   ]
  },
  {
   "cell_type": "code",
   "execution_count": 24,
   "metadata": {},
   "outputs": [
    {
     "data": {
      "text/plain": [
       "['So',\n",
       " 'well',\n",
       " 'go',\n",
       " 'no',\n",
       " 'more',\n",
       " 'aroving',\n",
       " 'So',\n",
       " 'late',\n",
       " 'into',\n",
       " 'the',\n",
       " 'night',\n",
       " 'Though',\n",
       " 'the',\n",
       " 'heart',\n",
       " 'be',\n",
       " 'still',\n",
       " 'as',\n",
       " 'loving',\n",
       " 'And',\n",
       " 'the',\n",
       " 'moon',\n",
       " 'be',\n",
       " 'still',\n",
       " 'as',\n",
       " 'bright']"
      ]
     },
     "execution_count": 24,
     "metadata": {},
     "output_type": "execute_result"
    }
   ],
   "source": [
    "tokens = word_tokenize(sentence.translate(translation_table))\n",
    "tokens"
   ]
  },
  {
   "cell_type": "code",
   "execution_count": 25,
   "metadata": {},
   "outputs": [
    {
     "name": "stdout",
     "output_type": "stream",
     "text": [
      "Porter:\n",
      "So well go no more arov So late into the night though the heart be still as love and the moon be still as bright \n",
      "\n",
      "Snowball:\n",
      "so well go no more arov so late into the night though the heart be still as love and the moon be still as bright \n",
      "\n",
      "Lancaster:\n",
      "so wel go no mor arov so lat into the night though the heart be stil as lov and the moon be stil as bright \n",
      "\n"
     ]
    }
   ],
   "source": [
    "for stemmer in [porter, snowball, lancaster]:\n",
    "    print('Porter:') if stemmer == porter else print('Snowball:') if stemmer == snowball else print('Lancaster:')\n",
    "    print(' '.join([stemmer.stem(t) for t in tokens]), '\\n')"
   ]
  },
  {
   "cell_type": "markdown",
   "metadata": {},
   "source": [
    "# 4. Lemmatization\n",
    "Lemmatization aims to achieve a similar base \"stem\" for a word, but it derives the proper dictionary root word, not just a truncated version of the word.\n",
    "\n",
    "## Here Are Some Differences Between Lemmatization and Stemming\n",
    "1. Lemma is an actual language word whereas stemming might not be.\n",
    "2. Lemmatizing uses WordNet (a large English dictionary) so it is slower than Stemming which just follows predefined steps.\n",
    "3. When Lemmatizing you have to define the parts-of-speech (POS) to get the correct lemma. Lemmatization won't really work on single words alone without context or knowledge of its POS tag (i.e. we need to know whether the word is a noun, verb, adjective, adverb).\n",
    "\n",
    "## Determining Which One to Use\n",
    "It will depend on the application you are working on. If speed is the main focus then use a Stemmer because it consumes less time and processing. However, if you are building a language application where language is important then use Lemmatization because it uses a corpus to match root forms. \n",
    "\n",
    "**Let's do a few lemmatization examples:**"
   ]
  },
  {
   "cell_type": "code",
   "execution_count": 26,
   "metadata": {},
   "outputs": [
    {
     "name": "stdout",
     "output_type": "stream",
     "text": [
      "brightening\n"
     ]
    }
   ],
   "source": [
    "# WordNet is the default lemmatizer in NLTK\n",
    "from nltk.stem import WordNetLemmatizer # lemmatizes word based on it's parts of speech\n",
    "\n",
    "# Lemmatize using WordNet's built-in morphy function. Returns the input word unchanged if it cannot be found in WordNet.\n",
    "wnl = WordNetLemmatizer()\n",
    "\n",
    "print(wnl.lemmatize('brightening'))"
   ]
  },
  {
   "cell_type": "markdown",
   "metadata": {},
   "source": [
    "As we saw above, sometimes, if we try to lemmatize a word, it could end up with the same word. This is because by default, the WordNetLemmatizer.lemmatize() function will assume that the word is a **Noun** if there's no explict POS tag in the input.\n",
    "\n",
    "To resolve the problem, always POS-tag your data before lemmatizing. Words can be in the form of Noun(n), Adjective(a), Verb(v), Adverb(r). [[tags](https://stackoverflow.com/questions/51634328/wordnetlemmatizer-different-handling-of-wn-adj-and-wn-adj-sat)]\n",
    "\n",
    "So let's manually set the part-of-speech to verb."
   ]
  },
  {
   "cell_type": "code",
   "execution_count": 27,
   "metadata": {},
   "outputs": [
    {
     "data": {
      "text/plain": [
       "'brighten'"
      ]
     },
     "execution_count": 27,
     "metadata": {},
     "output_type": "execute_result"
    }
   ],
   "source": [
    "# WordNet is another NLTK corpus reader. Use WordNet to get words in dictionary with their parts of speech\n",
    "from nltk.corpus import wordnet as wn\n",
    "wnl.lemmatize('brightening', pos=wn.VERB)"
   ]
  },
  {
   "cell_type": "code",
   "execution_count": 28,
   "metadata": {},
   "outputs": [
    {
     "data": {
      "text/plain": [
       "'brighten'"
      ]
     },
     "execution_count": 28,
     "metadata": {},
     "output_type": "execute_result"
    }
   ],
   "source": [
    "wnl.lemmatize('brightening', pos='v') # Alternatively we can also use this syntax"
   ]
  },
  {
   "cell_type": "code",
   "execution_count": 29,
   "metadata": {},
   "outputs": [
    {
     "data": {
      "text/plain": [
       "'box'"
      ]
     },
     "execution_count": 29,
     "metadata": {},
     "output_type": "execute_result"
    }
   ],
   "source": [
    "wnl.lemmatize('boxes', pos='n')"
   ]
  },
  {
   "cell_type": "code",
   "execution_count": 30,
   "metadata": {},
   "outputs": [
    {
     "data": {
      "text/plain": [
       "'corpus'"
      ]
     },
     "execution_count": 30,
     "metadata": {},
     "output_type": "execute_result"
    }
   ],
   "source": [
    "wnl.lemmatize('corpora', pos='n') # Noun. corpora -> corpus"
   ]
  },
  {
   "cell_type": "code",
   "execution_count": 31,
   "metadata": {},
   "outputs": [
    {
     "data": {
      "text/plain": [
       "'good'"
      ]
     },
     "execution_count": 31,
     "metadata": {},
     "output_type": "execute_result"
    }
   ],
   "source": [
    "wnl.lemmatize('better', pos='a') # Adjective. better -> good"
   ]
  },
  {
   "cell_type": "code",
   "execution_count": 32,
   "metadata": {},
   "outputs": [
    {
     "data": {
      "text/plain": [
       "'rock'"
      ]
     },
     "execution_count": 32,
     "metadata": {},
     "output_type": "execute_result"
    }
   ],
   "source": [
    "wnl.lemmatize('rocks', pos='n') # Noun. rocks -> rock"
   ]
  }
 ],
 "metadata": {
  "kernelspec": {
   "display_name": "Python 3",
   "language": "python",
   "name": "python3"
  },
  "language_info": {
   "codemirror_mode": {
    "name": "ipython",
    "version": 3
   },
   "file_extension": ".py",
   "mimetype": "text/x-python",
   "name": "python",
   "nbconvert_exporter": "python",
   "pygments_lexer": "ipython3",
   "version": "3.7.3"
  },
  "varInspector": {
   "cols": {
    "lenName": 16,
    "lenType": 16,
    "lenVar": 40
   },
   "kernels_config": {
    "python": {
     "delete_cmd_postfix": "",
     "delete_cmd_prefix": "del ",
     "library": "var_list.py",
     "varRefreshCmd": "print(var_dic_list())"
    },
    "r": {
     "delete_cmd_postfix": ") ",
     "delete_cmd_prefix": "rm(",
     "library": "var_list.r",
     "varRefreshCmd": "cat(var_dic_list()) "
    }
   },
   "position": {
    "height": "253px",
    "left": "755px",
    "right": "20px",
    "top": "57px",
    "width": "384px"
   },
   "types_to_exclude": [
    "module",
    "function",
    "builtin_function_or_method",
    "instance",
    "_Feature"
   ],
   "window_display": false
  }
 },
 "nbformat": 4,
 "nbformat_minor": 2
}
