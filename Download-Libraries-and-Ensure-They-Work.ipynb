{
 "cells": [
  {
   "cell_type": "markdown",
   "metadata": {},
   "source": [
    "Source: https://github.com/hb20007/hands-on-nltk-tutorial/blob/master/1-1-Downloading-Libs-and-Testing-That-They-Are-Working.ipynb"
   ]
  },
  {
   "cell_type": "code",
   "execution_count": 2,
   "metadata": {},
   "outputs": [],
   "source": [
    "import nltk # https://www.nltk.org/install.html\n",
    "import numpy # https://www.scipy.org/install.html\n",
    "import matplotlib.pyplot # https://matplotlib.org/downloads.html\n",
    "import tweepy # https://github.com/tweepy/tweepy\n",
    "import TwitterSearch # https://github.com/ckoepp/TwitterSearch\n",
    "import unidecode # https://pypi.python.org/pypi/Unidecode\n",
    "import langdetect # https://pypi.python.org/pypi/langdetect\n",
    "import langid # https://github.com/saffsd/langid.py\n",
    "import gensim # https://radimrehurek.com/gensim/install.html"
   ]
  }
 ],
 "metadata": {
  "kernelspec": {
   "display_name": "Python 3",
   "language": "python",
   "name": "python3"
  },
  "language_info": {
   "codemirror_mode": {
    "name": "ipython",
    "version": 3
   },
   "file_extension": ".py",
   "mimetype": "text/x-python",
   "name": "python",
   "nbconvert_exporter": "python",
   "pygments_lexer": "ipython3",
   "version": "3.7.3"
  }
 },
 "nbformat": 4,
 "nbformat_minor": 2
}
