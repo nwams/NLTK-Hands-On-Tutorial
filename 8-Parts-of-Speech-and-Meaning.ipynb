{
 "cells": [
  {
   "cell_type": "markdown",
   "metadata": {},
   "source": [
    "# Parts of Speech and Meaning (English Only)\n",
    "## Exploring awesome features offered by WordNet"
   ]
  },
  {
   "cell_type": "code",
   "execution_count": 1,
   "metadata": {},
   "outputs": [],
   "source": [
    "text = \"Cyprus, officially the Republic of Cyprus, is an island country in the Eastern Mediterranean and the third largest and third most populous island in the Mediterranean. Cyprus is located south of Turkey, west of Syria and Lebanon, northwest of Israel, north of Egypt, and southeast of Greece. Cyprus is a major tourist destination in the Mediterranean. With an advanced, high-income economy and a very high Human Development Index, the Republic of Cyprus has been a member of the Commonwealth since 1961 and was a founding member of the Non-Aligned Movement until it joined the European Union on 1 May 2004. On 1 January 2008, the Republic of Cyprus joined the eurozone.\""
   ]
  },
  {
   "cell_type": "markdown",
   "metadata": {},
   "source": [
    "## 1. Tokenization"
   ]
  },
  {
   "cell_type": "code",
   "execution_count": 2,
   "metadata": {},
   "outputs": [
    {
     "data": {
      "text/plain": [
       "['cyprus, officially the republic of cyprus, is an island country in the eastern mediterranean and the third largest and third most populous island in the mediterranean.',\n",
       " 'cyprus is located south of turkey, west of syria and lebanon, northwest of israel, north of egypt, and southeast of greece.',\n",
       " 'cyprus is a major tourist destination in the mediterranean.',\n",
       " 'with an advanced, high-income economy and a very high human development index, the republic of cyprus has been a member of the commonwealth since 1961 and was a founding member of the non-aligned movement until it joined the european union on 1 may 2004. on 1 january 2008, the republic of cyprus joined the eurozone.']"
      ]
     },
     "execution_count": 2,
     "metadata": {},
     "output_type": "execute_result"
    }
   ],
   "source": [
    "from nltk import sent_tokenize, word_tokenize\n",
    "sentences = sent_tokenize(text.lower())\n",
    "sentences"
   ]
  },
  {
   "cell_type": "code",
   "execution_count": 57,
   "metadata": {},
   "outputs": [
    {
     "data": {
      "text/plain": [
       "['cyprus',\n",
       " 'is',\n",
       " 'a',\n",
       " 'major',\n",
       " 'tourist',\n",
       " 'destination',\n",
       " 'in',\n",
       " 'the',\n",
       " 'mediterranean',\n",
       " '.']"
      ]
     },
     "execution_count": 57,
     "metadata": {},
     "output_type": "execute_result"
    }
   ],
   "source": [
    "tokens = word_tokenize(sentences[2])\n",
    "tokens"
   ]
  },
  {
   "cell_type": "markdown",
   "metadata": {},
   "source": [
    "## POS Tagging\n",
    "Here's the [Penn Treebank](https://www.ling.upenn.edu/courses/Fall_2003/ling001/penn_treebank_pos.html) tags and descriptions. "
   ]
  },
  {
   "cell_type": "code",
   "execution_count": 58,
   "metadata": {},
   "outputs": [
    {
     "data": {
      "text/plain": [
       "[('cyprus', 'NN'),\n",
       " ('is', 'VBZ'),\n",
       " ('a', 'DT'),\n",
       " ('major', 'JJ'),\n",
       " ('tourist', 'NN'),\n",
       " ('destination', 'NN'),\n",
       " ('in', 'IN'),\n",
       " ('the', 'DT'),\n",
       " ('mediterranean', 'NN'),\n",
       " ('.', '.')]"
      ]
     },
     "execution_count": 58,
     "metadata": {},
     "output_type": "execute_result"
    }
   ],
   "source": [
    "from nltk import pos_tag\n",
    "tags = pos_tag(tokens)\n",
    "tags"
   ]
  },
  {
   "cell_type": "markdown",
   "metadata": {},
   "source": [
    "**If you'd like to see the documentation for a tag:**"
   ]
  },
  {
   "cell_type": "code",
   "execution_count": 6,
   "metadata": {},
   "outputs": [
    {
     "name": "stdout",
     "output_type": "stream",
     "text": [
      "NN: noun, common, singular or mass\n",
      "    common-carrier cabbage knuckle-duster Casino afghan shed thermostat\n",
      "    investment slide humour falloff slick wind hyena override subhumanity\n",
      "    machinist ...\n"
     ]
    }
   ],
   "source": [
    "import nltk.help\n",
    "nltk.help.upenn_tagset('NN') # documentation for NN, which is a noun"
   ]
  },
  {
   "cell_type": "markdown",
   "metadata": {},
   "source": [
    "## 3. Word Senses (for homonyms)\n",
    "Homonyms are two or more words having the same spelling or pronunciation but different meanings and origins. A simple example of a homonym is the word \"pen\". This can mean both \"a holding area for animals\" and \"a writing tool\".\n",
    "\n",
    "[WordNet](https://wordnet.princeton.edu/) is a large English dictionary in the form of a [semantic graph](http://davidvandegrift.com/blog?id=62), a.k.a semantic networks. FYI: A linguist named Tom De Smedt created a lexicon ([en-sentiment.xml](https://github.com/sloria/TextBlob/blob/eb08c120d364e908646731d60b4e4c6c1712ff63/textblob/en/en-sentiment.xml)) where he also manually assigned adjective words with polarity and subjectivity values.\n",
    "\n",
    "WordNet groups English words into sets of synonyms called synsets. It provides short definitions and usage examples, and records a number of relations among these synonym sets or their members.\n",
    "\n",
    "NLTK provides an interface to the WordNet API."
   ]
  },
  {
   "cell_type": "markdown",
   "metadata": {},
   "source": [
    "### WordNet is just another NLTK corpus reader\n",
    "\n",
    "### Synset\n",
    "A synset is a set of synonyms that share a common meaning.\n",
    "Look up a word using `synsets()`; this function has an optional pos argument which lets you constrain the part of speech of the word. A synset is identified with a 3-part name of the form: `word.pos.nn`"
   ]
  },
  {
   "cell_type": "code",
   "execution_count": 7,
   "metadata": {},
   "outputs": [
    {
     "data": {
      "text/plain": [
       "[Synset('homo.n.02'),\n",
       " Synset('human.a.01'),\n",
       " Synset('human.a.02'),\n",
       " Synset('human.a.03')]"
      ]
     },
     "execution_count": 7,
     "metadata": {},
     "output_type": "execute_result"
    }
   ],
   "source": [
    "from nltk.corpus import wordnet as wn\n",
    "wn.synsets('human')"
   ]
  },
  {
   "cell_type": "code",
   "execution_count": 8,
   "metadata": {},
   "outputs": [
    {
     "data": {
      "text/plain": [
       "'any living or extinct member of the family Hominidae characterized by superior intelligence, articulate speech, and erect carriage'"
      ]
     },
     "execution_count": 8,
     "metadata": {},
     "output_type": "execute_result"
    }
   ],
   "source": [
    "wn.synsets('human')[0].definition()"
   ]
  },
  {
   "cell_type": "code",
   "execution_count": 9,
   "metadata": {},
   "outputs": [
    {
     "data": {
      "text/plain": [
       "'characteristic of humanity'"
      ]
     },
     "execution_count": 9,
     "metadata": {},
     "output_type": "execute_result"
    }
   ],
   "source": [
    "wn.synsets('human')[1].definition()"
   ]
  },
  {
   "cell_type": "code",
   "execution_count": 10,
   "metadata": {},
   "outputs": [
    {
     "data": {
      "text/plain": [
       "'relating to a person'"
      ]
     },
     "execution_count": 10,
     "metadata": {},
     "output_type": "execute_result"
    }
   ],
   "source": [
    "wn.synsets('human')[2].definition()"
   ]
  },
  {
   "cell_type": "code",
   "execution_count": 11,
   "metadata": {},
   "outputs": [
    {
     "data": {
      "text/plain": [
       "'having human form or attributes as opposed to those of animals or divine beings'"
      ]
     },
     "execution_count": 11,
     "metadata": {},
     "output_type": "execute_result"
    }
   ],
   "source": [
    "wn.synsets('human')[3].definition()"
   ]
  },
  {
   "cell_type": "code",
   "execution_count": 13,
   "metadata": {},
   "outputs": [
    {
     "data": {
      "text/plain": [
       "Synset('homo.n.02')"
      ]
     },
     "execution_count": 13,
     "metadata": {},
     "output_type": "execute_result"
    }
   ],
   "source": [
    "human = wn.synsets('Human', pos=wn.NOUN)[0] # Set human to be the first homonym which is a noun\n",
    "human"
   ]
  },
  {
   "cell_type": "markdown",
   "metadata": {},
   "source": [
    "### Hypernym\n",
    "A hypernym is a word with a broad meaning constituting a category into which words with more specific meanings fall; a superordinate. For example, color is a hypernym of red."
   ]
  },
  {
   "cell_type": "code",
   "execution_count": 14,
   "metadata": {},
   "outputs": [
    {
     "data": {
      "text/plain": [
       "[Synset('hominid.n.01')]"
      ]
     },
     "execution_count": 14,
     "metadata": {},
     "output_type": "execute_result"
    }
   ],
   "source": [
    "human.hypernyms() "
   ]
  },
  {
   "cell_type": "markdown",
   "metadata": {},
   "source": [
    "### Hyponym\n",
    "A hyponym is a word of more specific meaning than a general or superordinate term applicable to it. For example, spoon is a hyponym of cutlery."
   ]
  },
  {
   "cell_type": "code",
   "execution_count": 15,
   "metadata": {},
   "outputs": [
    {
     "data": {
      "text/plain": [
       "[Synset('homo_erectus.n.01'),\n",
       " Synset('homo_habilis.n.01'),\n",
       " Synset('homo_sapiens.n.01'),\n",
       " Synset('homo_soloensis.n.01'),\n",
       " Synset('neandertal_man.n.01'),\n",
       " Synset('rhodesian_man.n.01'),\n",
       " Synset('world.n.08')]"
      ]
     },
     "execution_count": 15,
     "metadata": {},
     "output_type": "execute_result"
    }
   ],
   "source": [
    "human.hyponyms() "
   ]
  },
  {
   "cell_type": "code",
   "execution_count": 21,
   "metadata": {},
   "outputs": [
    {
     "data": {
      "text/plain": [
       "[Synset('bicycle.n.01'), Synset('bicycle.v.01')]"
      ]
     },
     "execution_count": 21,
     "metadata": {},
     "output_type": "execute_result"
    }
   ],
   "source": [
    "bike = wn.synsets('bicycle')\n",
    "bike"
   ]
  },
  {
   "cell_type": "code",
   "execution_count": 20,
   "metadata": {},
   "outputs": [
    {
     "data": {
      "text/plain": [
       "[Synset('girl.n.01'),\n",
       " Synset('female_child.n.01'),\n",
       " Synset('daughter.n.01'),\n",
       " Synset('girlfriend.n.02'),\n",
       " Synset('girl.n.05')]"
      ]
     },
     "execution_count": 20,
     "metadata": {},
     "output_type": "execute_result"
    }
   ],
   "source": [
    "girl = wn.synsets('girl')\n",
    "girl"
   ]
  },
  {
   "cell_type": "code",
   "execution_count": 22,
   "metadata": {},
   "outputs": [
    {
     "data": {
      "text/plain": [
       "['girl',\n",
       " 'miss',\n",
       " 'missy',\n",
       " 'young_lady',\n",
       " 'young_woman',\n",
       " 'fille',\n",
       " 'female_child',\n",
       " 'girl',\n",
       " 'little_girl',\n",
       " 'daughter',\n",
       " 'girl',\n",
       " 'girlfriend',\n",
       " 'girl',\n",
       " 'lady_friend',\n",
       " 'girl']"
      ]
     },
     "execution_count": 22,
     "metadata": {},
     "output_type": "execute_result"
    }
   ],
   "source": [
    "synonyms = []\n",
    "for syn in wn.synsets('girl'):\n",
    "    for lemma in syn.lemmas(): #  A lemma is basically the dictionary form or base form of a word, as opposed to the various inflected forms of a word. \n",
    "        synonyms.append(lemma.name())\n",
    "synonyms"
   ]
  },
  {
   "cell_type": "markdown",
   "metadata": {},
   "source": [
    "### Similarity (Wu-Palmer metric)\n",
    "The Wu-Palmer metric (WUP) is a measure of similarity based on distance in the semantic graph. There are many other metrics too."
   ]
  },
  {
   "cell_type": "code",
   "execution_count": 18,
   "metadata": {},
   "outputs": [
    {
     "data": {
      "text/plain": [
       "0.34782608695652173"
      ]
     },
     "execution_count": 18,
     "metadata": {},
     "output_type": "execute_result"
    }
   ],
   "source": [
    "bike.wup_similarity(human) "
   ]
  },
  {
   "cell_type": "code",
   "execution_count": 19,
   "metadata": {},
   "outputs": [
    {
     "data": {
      "text/plain": [
       "0.5217391304347826"
      ]
     },
     "execution_count": 19,
     "metadata": {},
     "output_type": "execute_result"
    }
   ],
   "source": [
    "girl.wup_similarity(human)"
   ]
  },
  {
   "cell_type": "code",
   "execution_count": 23,
   "metadata": {},
   "outputs": [
    {
     "data": {
      "text/plain": [
       "['girl',\n",
       " 'miss',\n",
       " 'missy',\n",
       " 'young_lady',\n",
       " 'young_woman',\n",
       " 'fille',\n",
       " 'female_child',\n",
       " 'girl',\n",
       " 'little_girl',\n",
       " 'daughter',\n",
       " 'girl',\n",
       " 'girlfriend',\n",
       " 'girl',\n",
       " 'lady_friend',\n",
       " 'girl']"
      ]
     },
     "execution_count": 23,
     "metadata": {},
     "output_type": "execute_result"
    }
   ],
   "source": [
    "synonyms = []\n",
    "for syn in wn.synsets('girl'):\n",
    "    for lemma in syn.lemmas(): #  A lemma is basically the dictionary form or base form of a word, as opposed to the various inflected forms of a word. \n",
    "        synonyms.append(lemma.name())\n",
    "synonyms"
   ]
  },
  {
   "cell_type": "markdown",
   "metadata": {},
   "source": [
    "### Antonyms"
   ]
  },
  {
   "cell_type": "code",
   "execution_count": 24,
   "metadata": {},
   "outputs": [
    {
     "data": {
      "text/plain": [
       "['male_child', 'boy', 'son', 'boy']"
      ]
     },
     "execution_count": 24,
     "metadata": {},
     "output_type": "execute_result"
    }
   ],
   "source": [
    "antonyms = []\n",
    "for syn in wn.synsets(\"girl\"):\n",
    "    for l in syn.lemmas():\n",
    "        if l.antonyms():\n",
    "            antonyms.append(l.antonyms()[0].name())\n",
    "antonyms"
   ]
  },
  {
   "cell_type": "markdown",
   "metadata": {},
   "source": [
    "## 4. Chunking and Entity Recognition\n",
    "The goal of chunking is to divide a sentence into chunks. Usually each chunk contains a **head** and optionally, additionally words and modifiers. Examples of chunks include noun groups and verb groups."
   ]
  },
  {
   "cell_type": "code",
   "execution_count": 25,
   "metadata": {},
   "outputs": [],
   "source": [
    "from nltk.chunk import RegexpParser"
   ]
  },
  {
   "cell_type": "markdown",
   "metadata": {},
   "source": [
    "In order to create a chunker, we need to first define a chunk grammar, consisting of rules that indicate how sentences should be chunked.\n",
    "\n",
    "We can define a simple grammar for a noun phrase (`NP`) chunker with a single regular-expression rule. This rule says that a `NP` chunk should be formed whenever the chunker finds an optional determiner (`DT`) followed by any number of adjectives (`JJ`) and then a noun (`NN`).\n",
    "\n",
    "Note how grammatical structures which are not noun phrases are not chunked, which is totally fine:"
   ]
  },
  {
   "cell_type": "code",
   "execution_count": 27,
   "metadata": {},
   "outputs": [],
   "source": [
    "grammar = \"NP: {<DT>?<JJ>*<NN>}\""
   ]
  },
  {
   "cell_type": "code",
   "execution_count": 35,
   "metadata": {},
   "outputs": [
    {
     "data": {
      "image/png": "[encoded data removed]",
      "text/plain": [
       "Tree('S', [Tree('NP', [('cyprus', 'NN')]), ('is', 'VBZ'), Tree('NP', [('a', 'DT'), ('major', 'JJ'), ('tourist', 'NN')]), Tree('NP', [('destination', 'NN')]), ('in', 'IN'), Tree('NP', [('the', 'DT'), ('mediterranean', 'NN')]), ('.', '.')])"
      ]
     },
     "execution_count": 35,
     "metadata": {},
     "output_type": "execute_result"
    }
   ],
   "source": [
    "chunker = RegexpParser(grammar)\n",
    "result = chunker.parse(tags)\n",
    "result"
   ]
  },
  {
   "cell_type": "markdown",
   "metadata": {},
   "source": [
    "### Named Entity Recognition [[documentation](https://www.nltk.org/book/ch07.html#named-entity-recognition)]\n",
    "The goal of entity recognition is to detect entities such as Person, Location, Time, etc.\n",
    "\n",
    "[Here](https://www.nltk.org/book/ch07.html#tab-ne-types) is a list of the most commonly used types of named entities:\n",
    "* ORGANIZATION\n",
    "* PERSON\n",
    "* LOCATION\n",
    "* DATE\n",
    "* TIME\n",
    "* MONEY\n",
    "* PERCENT\n",
    "* FACILITY\n",
    "* GPE\n",
    "\n",
    "They should be self-explanatory, except for\n",
    "1. \"Facility\": human-made artifacts in the domains of architecture and civil engineering; and \n",
    "2. \"GPE\": geo-political entities such as city, state/province, and country."
   ]
  },
  {
   "cell_type": "code",
   "execution_count": 60,
   "metadata": {},
   "outputs": [
    {
     "data": {
      "image/png": "[encoded data removed]",
      "text/plain": [
       "Tree('S', [('cyprus', 'NN'), ('is', 'VBZ'), ('a', 'DT'), ('major', 'JJ'), ('tourist', 'NN'), ('destination', 'NN'), ('in', 'IN'), ('the', 'DT'), ('mediterranean', 'NN'), ('.', '.')])"
      ]
     },
     "execution_count": 60,
     "metadata": {},
     "output_type": "execute_result"
    }
   ],
   "source": [
    "from nltk.chunk import ne_chunk # ne = named entity\n",
    "ne_chunk(tags)"
   ]
  },
  {
   "cell_type": "code",
   "execution_count": 61,
   "metadata": {},
   "outputs": [
    {
     "name": "stdout",
     "output_type": "stream",
     "text": [
      "(S\n",
      "  cyprus/NN\n",
      "  is/VBZ\n",
      "  a/DT\n",
      "  major/JJ\n",
      "  tourist/NN\n",
      "  destination/NN\n",
      "  in/IN\n",
      "  the/DT\n",
      "  mediterranean/NN\n",
      "  ./.)\n"
     ]
    }
   ],
   "source": [
    "ne_chunk(tags).pprint()"
   ]
  },
  {
   "cell_type": "markdown",
   "metadata": {},
   "source": [
    "Note ne_chunk was unable to detect any entities in our sentence. That is because it is quite limited.\n",
    "\n",
    "**Let's try a different sentence.**"
   ]
  },
  {
   "cell_type": "code",
   "execution_count": 65,
   "metadata": {},
   "outputs": [
    {
     "data": {
      "text/plain": [
       "[('The', 'DT'),\n",
       " ('U.S.', 'NNP'),\n",
       " ('is', 'VBZ'),\n",
       " ('one', 'CD'),\n",
       " ('of', 'IN'),\n",
       " ('the', 'DT'),\n",
       " ('few', 'JJ'),\n",
       " ('industrialized', 'VBN'),\n",
       " ('nations', 'NNS'),\n",
       " ('that', 'WDT'),\n",
       " ('*T*-7', '-NONE-'),\n",
       " ('does', 'VBZ'),\n",
       " (\"n't\", 'RB'),\n",
       " ('have', 'VB'),\n",
       " ('a', 'DT'),\n",
       " ('higher', 'JJR'),\n",
       " ('standard', 'NN'),\n",
       " ('of', 'IN'),\n",
       " ('regulation', 'NN'),\n",
       " ('for', 'IN'),\n",
       " ('the', 'DT'),\n",
       " ('smooth', 'JJ'),\n",
       " (',', ','),\n",
       " ('needle-like', 'JJ'),\n",
       " ('fibers', 'NNS'),\n",
       " ('such', 'JJ'),\n",
       " ('as', 'IN'),\n",
       " ('crocidolite', 'NN'),\n",
       " ('that', 'WDT'),\n",
       " ('*T*-1', '-NONE-'),\n",
       " ('are', 'VBP'),\n",
       " ('classified', 'VBN'),\n",
       " ('*-5', '-NONE-'),\n",
       " ('as', 'IN'),\n",
       " ('amphobiles', 'NNS'),\n",
       " (',', ','),\n",
       " ('according', 'VBG'),\n",
       " ('to', 'TO'),\n",
       " ('Brooke', 'NNP'),\n",
       " ('T.', 'NNP'),\n",
       " ('Mossman', 'NNP'),\n",
       " (',', ','),\n",
       " ('a', 'DT'),\n",
       " ('professor', 'NN'),\n",
       " ('of', 'IN'),\n",
       " ('pathlogy', 'NN'),\n",
       " ('at', 'IN'),\n",
       " ('the', 'DT'),\n",
       " ('University', 'NNP'),\n",
       " ('of', 'IN'),\n",
       " ('Vermont', 'NNP'),\n",
       " ('College', 'NNP'),\n",
       " ('of', 'IN'),\n",
       " ('Medicine', 'NNP'),\n",
       " ('.', '.')]"
      ]
     },
     "execution_count": 65,
     "metadata": {},
     "output_type": "execute_result"
    }
   ],
   "source": [
    "from nltk.corpus import treebank\n",
    "\n",
    "tb = treebank\n",
    "sent = treebank.tagged_sents()[22]\n",
    "sent"
   ]
  },
  {
   "cell_type": "code",
   "execution_count": 66,
   "metadata": {},
   "outputs": [
    {
     "name": "stdout",
     "output_type": "stream",
     "text": [
      "(S\n",
      "  The/DT\n",
      "  (GPE U.S./NNP)\n",
      "  is/VBZ\n",
      "  one/CD\n",
      "  of/IN\n",
      "  the/DT\n",
      "  few/JJ\n",
      "  industrialized/VBN\n",
      "  nations/NNS\n",
      "  that/WDT\n",
      "  *T*-7/-NONE-\n",
      "  does/VBZ\n",
      "  n't/RB\n",
      "  have/VB\n",
      "  a/DT\n",
      "  higher/JJR\n",
      "  standard/NN\n",
      "  of/IN\n",
      "  regulation/NN\n",
      "  for/IN\n",
      "  the/DT\n",
      "  smooth/JJ\n",
      "  ,/,\n",
      "  needle-like/JJ\n",
      "  fibers/NNS\n",
      "  such/JJ\n",
      "  as/IN\n",
      "  crocidolite/NN\n",
      "  that/WDT\n",
      "  *T*-1/-NONE-\n",
      "  are/VBP\n",
      "  classified/VBN\n",
      "  *-5/-NONE-\n",
      "  as/IN\n",
      "  amphobiles/NNS\n",
      "  ,/,\n",
      "  according/VBG\n",
      "  to/TO\n",
      "  (PERSON Brooke/NNP T./NNP Mossman/NNP)\n",
      "  ,/,\n",
      "  a/DT\n",
      "  professor/NN\n",
      "  of/IN\n",
      "  pathlogy/NN\n",
      "  at/IN\n",
      "  the/DT\n",
      "  (ORGANIZATION University/NNP)\n",
      "  of/IN\n",
      "  (PERSON Vermont/NNP College/NNP)\n",
      "  of/IN\n",
      "  (GPE Medicine/NNP)\n",
      "  ./.)\n"
     ]
    }
   ],
   "source": [
    "print(ne_chunk(sent))"
   ]
  },
  {
   "cell_type": "markdown",
   "metadata": {},
   "source": [
    "This time it detected a few named entiies such as the `U.S.` as a `GPE` and `Brooke` as a `Person`. \n",
    "However it incorrectly identified `Vermont College` as a `Person`."
   ]
  }
 ],
 "metadata": {
  "kernelspec": {
   "display_name": "Python 3",
   "language": "python",
   "name": "python3"
  },
  "language_info": {
   "codemirror_mode": {
    "name": "ipython",
    "version": 3
   },
   "file_extension": ".py",
   "mimetype": "text/x-python",
   "name": "python",
   "nbconvert_exporter": "python",
   "pygments_lexer": "ipython3",
   "version": "3.7.3"
  },
  "varInspector": {
   "cols": {
    "lenName": 16,
    "lenType": 16,
    "lenVar": 40
   },
   "kernels_config": {
    "python": {
     "delete_cmd_postfix": "",
     "delete_cmd_prefix": "del ",
     "library": "var_list.py",
     "varRefreshCmd": "print(var_dic_list())"
    },
    "r": {
     "delete_cmd_postfix": ") ",
     "delete_cmd_prefix": "rm(",
     "library": "var_list.r",
     "varRefreshCmd": "cat(var_dic_list()) "
    }
   },
   "types_to_exclude": [
    "module",
    "function",
    "builtin_function_or_method",
    "instance",
    "_Feature"
   ],
   "window_display": false
  }
 },
 "nbformat": 4,
 "nbformat_minor": 2
}
