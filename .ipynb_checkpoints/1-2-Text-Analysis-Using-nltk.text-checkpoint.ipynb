{
 "cells": [
  {
   "cell_type": "markdown",
   "metadata": {},
   "source": [
    "Source: https://github.com/hb20007/hands-on-nltk-tutorial/blob/master/1-2-Text-Analysis-Using-nltk.text.ipynb"
   ]
  },
  {
   "cell_type": "markdown",
   "metadata": {},
   "source": [
    "# Extracting Interesting Data from a Given Text"
   ]
  },
  {
   "cell_type": "markdown",
   "metadata": {},
   "source": [
    "## Text Analysis Using nltk.text"
   ]
  },
  {
   "cell_type": "code",
   "execution_count": 2,
   "metadata": {},
   "outputs": [],
   "source": [
    "from nltk.tokenize import word_tokenize\n",
    "from nltk.text import Text"
   ]
  },
  {
   "cell_type": "code",
   "execution_count": 3,
   "metadata": {},
   "outputs": [
    {
     "data": {
      "text/plain": [
       "['Two',\n",
       " 'plus',\n",
       " 'two',\n",
       " 'is',\n",
       " 'four',\n",
       " ',',\n",
       " 'minus',\n",
       " 'one',\n",
       " 'that',\n",
       " \"'s\",\n",
       " 'three',\n",
       " '—',\n",
       " 'quick',\n",
       " 'maths',\n",
       " '.',\n",
       " 'Every',\n",
       " 'day',\n",
       " 'man',\n",
       " \"'s\",\n",
       " 'on',\n",
       " 'the',\n",
       " 'block',\n",
       " '.',\n",
       " 'Smoke',\n",
       " 'trees',\n",
       " '.',\n",
       " 'See',\n",
       " 'your',\n",
       " 'girl',\n",
       " 'in',\n",
       " 'the',\n",
       " 'park',\n",
       " ',',\n",
       " 'that',\n",
       " 'girl',\n",
       " 'is',\n",
       " 'an',\n",
       " 'uckers',\n",
       " '.',\n",
       " 'When',\n",
       " 'the',\n",
       " 'thing',\n",
       " 'went',\n",
       " 'quack',\n",
       " 'quack',\n",
       " 'quack',\n",
       " ',',\n",
       " 'your',\n",
       " 'men',\n",
       " 'were',\n",
       " 'ducking',\n",
       " '!',\n",
       " 'Hold',\n",
       " 'tight',\n",
       " 'Asznee',\n",
       " ',',\n",
       " 'my',\n",
       " 'brother',\n",
       " '.',\n",
       " 'He',\n",
       " \"'s\",\n",
       " 'got',\n",
       " 'a',\n",
       " 'pumpy',\n",
       " '.',\n",
       " 'Hold',\n",
       " 'tight',\n",
       " 'my',\n",
       " 'man',\n",
       " ',',\n",
       " 'my',\n",
       " 'guy',\n",
       " '.',\n",
       " 'He',\n",
       " \"'s\",\n",
       " 'got',\n",
       " 'a',\n",
       " 'frisbee',\n",
       " '.',\n",
       " 'I',\n",
       " 'trap',\n",
       " ',',\n",
       " 'trap',\n",
       " ',',\n",
       " 'trap',\n",
       " 'on',\n",
       " 'the',\n",
       " 'phone',\n",
       " '.',\n",
       " 'Moving',\n",
       " 'that',\n",
       " 'cornflakes',\n",
       " ',',\n",
       " 'rice',\n",
       " 'crispies',\n",
       " '.',\n",
       " 'Hold',\n",
       " 'tight',\n",
       " 'my',\n",
       " 'girl',\n",
       " 'Whitney',\n",
       " '.']"
      ]
     },
     "execution_count": 3,
     "metadata": {},
     "output_type": "execute_result"
    }
   ],
   "source": [
    "my_string = \"Two plus two is four, minus one that's three — quick maths. Every day man's on the block. Smoke trees. See your girl in the park, that girl is an uckers. When the thing went quack quack quack, your men were ducking! Hold tight Asznee, my brother. He's got a pumpy. Hold tight my man, my guy. He's got a frisbee. I trap, trap, trap on the phone. Moving that cornflakes, rice crispies. Hold tight my girl Whitney.\"\n",
    "\n",
    "# Tokenize the text\n",
    "tokens = word_tokenize(my_string) \n",
    "tokens"
   ]
  },
  {
   "cell_type": "code",
   "execution_count": 8,
   "metadata": {},
   "outputs": [
    {
     "data": {
      "text/plain": [
       "['two', 'plus', 'two', 'is', 'four', ',', 'minus', 'one', 'that', \"'s\"]"
      ]
     },
     "execution_count": 8,
     "metadata": {},
     "output_type": "execute_result"
    }
   ],
   "source": [
    "tokens = [word.lower() for word in tokens] # Convert every word to lowercase\n",
    "tokens[:10]"
   ]
  },
  {
   "cell_type": "code",
   "execution_count": 9,
   "metadata": {},
   "outputs": [
    {
     "data": {
      "text/plain": [
       "<Text: two plus two is four , minus one...>"
      ]
     },
     "execution_count": 9,
     "metadata": {},
     "output_type": "execute_result"
    }
   ],
   "source": [
    "t = Text(tokens)\n",
    "t"
   ]
  },
  {
   "cell_type": "markdown",
   "metadata": {},
   "source": [
    "### Concordance\n",
    "There are many ways to examine the context of a text apart from simply reading it. A concordance view shows us every occurrence of a given word, together with some context."
   ]
  },
  {
   "cell_type": "code",
   "execution_count": 13,
   "metadata": {},
   "outputs": [
    {
     "name": "stdout",
     "output_type": "stream",
     "text": [
      "Displaying 1 of 1 matches:\n",
      " girl in the park , that girl is an uckers . when the thing went quack quack q\n"
     ]
    }
   ],
   "source": [
    "t.concordance('uckers')"
   ]
  },
  {
   "cell_type": "markdown",
   "metadata": {},
   "source": [
    "### Collocations\n",
    "A collocation is a sequence of words that occur together unusually often. Thus red wine is a collocation, whereas the wine is not. A characteristic of collocations is that they are resistant to substitution with words that have similar senses; for example, maroon wine sounds definitely odd."
   ]
  },
  {
   "cell_type": "code",
   "execution_count": 15,
   "metadata": {},
   "outputs": [
    {
     "name": "stdout",
     "output_type": "stream",
     "text": [
      "hold tight; quack quack\n"
     ]
    }
   ],
   "source": [
    "t.collocations()"
   ]
  },
  {
   "cell_type": "markdown",
   "metadata": {},
   "source": [
    "### Count"
   ]
  },
  {
   "cell_type": "code",
   "execution_count": 16,
   "metadata": {},
   "outputs": [
    {
     "data": {
      "text/plain": [
       "3"
      ]
     },
     "execution_count": 16,
     "metadata": {},
     "output_type": "execute_result"
    }
   ],
   "source": [
    "t.count('quack')"
   ]
  },
  {
   "cell_type": "markdown",
   "metadata": {},
   "source": [
    "### Index"
   ]
  },
  {
   "cell_type": "code",
   "execution_count": 19,
   "metadata": {},
   "outputs": [
    {
     "data": {
      "text/plain": [
       "0"
      ]
     },
     "execution_count": 19,
     "metadata": {},
     "output_type": "execute_result"
    }
   ],
   "source": [
    "t.index('two')"
   ]
  },
  {
   "cell_type": "markdown",
   "metadata": {},
   "source": [
    "### Similar\n",
    "What other words appear in a similar range of contexts? "
   ]
  },
  {
   "cell_type": "code",
   "execution_count": 20,
   "metadata": {},
   "outputs": [
    {
     "name": "stdout",
     "output_type": "stream",
     "text": [
      "guy\n"
     ]
    }
   ],
   "source": [
    "t.similar('brother')"
   ]
  },
  {
   "cell_type": "markdown",
   "metadata": {},
   "source": [
    "### Dispersion Plot\n",
    "Where is a particular word being used? Is it more in the beginning of the text? Or at the end of the text? Determine the location of a word in the text: how many words from the beginning it appears."
   ]
  },
  {
   "cell_type": "code",
   "execution_count": 26,
   "metadata": {},
   "outputs": [
    {
     "data": {
      "image/png": "[encoded data removed]",
      "text/plain": [
       "<Figure size 432x288 with 1 Axes>"
      ]
     },
     "metadata": {
      "needs_background": "light"
     },
     "output_type": "display_data"
    }
   ],
   "source": [
    "'''Note\n",
    "Important: You need to have Python's NumPy and Matplotlib packages installed in order to produce the graphical plots '''\n",
    "import numpy\n",
    "import matplotlib.pyplot\n",
    "t.dispersion_plot(['man', 'thing', 'quack', 'trap']) "
   ]
  },
  {
   "cell_type": "markdown",
   "metadata": {},
   "source": [
    "### Graphical plot of the frequency distribution"
   ]
  },
  {
   "cell_type": "code",
   "execution_count": 27,
   "metadata": {},
   "outputs": [
    {
     "data": {
      "image/png": "[encoded data removed]",
      "text/plain": [
       "<Figure size 432x288 with 1 Axes>"
      ]
     },
     "metadata": {
      "needs_background": "light"
     },
     "output_type": "display_data"
    }
   ],
   "source": [
    "t.plot(20) # Plots 20 most common tokens"
   ]
  },
  {
   "cell_type": "markdown",
   "metadata": {},
   "source": [
    "### Frequency Distribution"
   ]
  },
  {
   "cell_type": "code",
   "execution_count": 55,
   "metadata": {},
   "outputs": [
    {
     "name": "stdout",
     "output_type": "stream",
     "text": [
      "2 two\n",
      "1 plus\n",
      "2 is\n",
      "1 four\n",
      "8 ,\n",
      "1 minus\n",
      "1 one\n",
      "3 that\n",
      "4 's\n",
      "1 three\n",
      "1 —\n",
      "1 quick\n",
      "1 maths\n",
      "11 .\n",
      "1 every\n",
      "1 day\n",
      "2 man\n",
      "2 on\n",
      "4 the\n",
      "1 block\n",
      "1 smoke\n",
      "1 trees\n",
      "1 see\n",
      "2 your\n",
      "3 girl\n",
      "1 in\n",
      "1 park\n",
      "1 an\n",
      "1 uckers\n",
      "1 when\n",
      "1 thing\n",
      "1 went\n",
      "3 quack\n",
      "1 men\n",
      "1 were\n",
      "1 ducking\n",
      "1 !\n",
      "3 hold\n",
      "3 tight\n",
      "1 asznee\n",
      "4 my\n",
      "1 brother\n",
      "2 he\n",
      "2 got\n",
      "2 a\n",
      "1 pumpy\n",
      "1 guy\n",
      "1 frisbee\n",
      "1 i\n",
      "3 trap\n",
      "1 phone\n",
      "1 moving\n",
      "1 cornflakes\n",
      "1 rice\n",
      "1 crispies\n",
      "1 whitney\n"
     ]
    }
   ],
   "source": [
    "from nltk import FreqDist\n",
    "freq_dist = FreqDist(t)\n",
    "freq_dist\n",
    "\n",
    "for token in freq_dist:\n",
    "    print(freq_dist[token], token)"
   ]
  },
  {
   "cell_type": "code",
   "execution_count": 59,
   "metadata": {},
   "outputs": [
    {
     "data": {
      "text/plain": [
       "[('.', 11), (',', 8), (\"'s\", 4), ('the', 4), ('my', 4)]"
      ]
     },
     "execution_count": 59,
     "metadata": {},
     "output_type": "execute_result"
    }
   ],
   "source": [
    "freq_dist.most_common(5)"
   ]
  },
  {
   "cell_type": "markdown",
   "metadata": {},
   "source": [
    "### Common Contexts\n",
    "common_contexts shows when the use of a list of words share the same surrounding words.\n",
    "The text above is too small so we will use a bigger one.\n",
    "\n",
    "NLTK comes with several interesting corpora, which are large collections of text. You can check out what kinds of corpora are found in nltk.corpus in Section 1 of <a href=\"http://www.nltk.org/book/ch02.html\" target=\"_blank\">NLTK's docs.</a>\n",
    "\n",
    "We will use the **reuters** corpora. \n",
    "The Reuters Corpus contains 10,788 news documents totaling 1.3 million words."
   ]
  },
  {
   "cell_type": "code",
   "execution_count": 63,
   "metadata": {},
   "outputs": [
    {
     "data": {
      "text/plain": [
       "['ASIAN',\n",
       " 'EXPORTERS',\n",
       " 'FEAR',\n",
       " 'DAMAGE',\n",
       " 'FROM',\n",
       " 'U',\n",
       " '.',\n",
       " 'S',\n",
       " '.-',\n",
       " 'JAPAN',\n",
       " 'RIFT',\n",
       " 'Mounting',\n",
       " 'trade',\n",
       " 'friction']"
      ]
     },
     "execution_count": 63,
     "metadata": {},
     "output_type": "execute_result"
    }
   ],
   "source": [
    "from nltk.corpus import reuters\n",
    "text = Text(reuters.words()) # Read data in from corpus.\n",
    "text[:14] # The first handful of words in each of these texts are titles, which are stored as upper case."
   ]
  },
  {
   "cell_type": "code",
   "execution_count": 67,
   "metadata": {},
   "outputs": [
    {
     "name": "stdout",
     "output_type": "stream",
     "text": [
      "in_1986 and_and by_. begins_1 paid_1986 in_, early_. or_, /_shipment\n",
      "of_. last_. for_shipment for_to on_3 on_12 on_19 last_when in_.\n",
      "in_1987 -_.\n"
     ]
    }
   ],
   "source": [
    "text.common_contexts(['August', 'June'])"
   ]
  },
  {
   "cell_type": "markdown",
   "metadata": {},
   "source": [
    "**This result tells us that the phrases \"in August 1986\" and \"in June 1986\" both appear in Reuters.\n",
    "As well as\n",
    "\"begins August 1\" and \"begins June 1\" \n",
    "etc etc.**"
   ]
  }
 ],
 "metadata": {
  "kernelspec": {
   "display_name": "Python 3",
   "language": "python",
   "name": "python3"
  },
  "language_info": {
   "codemirror_mode": {
    "name": "ipython",
    "version": 3
   },
   "file_extension": ".py",
   "mimetype": "text/x-python",
   "name": "python",
   "nbconvert_exporter": "python",
   "pygments_lexer": "ipython3",
   "version": "3.7.3"
  }
 },
 "nbformat": 4,
 "nbformat_minor": 2
}
